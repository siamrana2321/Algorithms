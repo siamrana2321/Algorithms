{
 "cells": [
  {
   "cell_type": "markdown",
   "metadata": {},
   "source": [
    "#### 1. Linear Search"
   ]
  },
  {
   "cell_type": "code",
   "execution_count": 1,
   "metadata": {},
   "outputs": [
    {
     "name": "stdout",
     "output_type": "stream",
     "text": [
      "3\n"
     ]
    }
   ],
   "source": [
    "'''\n",
    "- What it does: It checks each element in a list one by one until it finds the target.\n",
    "- Example: \n",
    "  - List: [3, 5, 2, 8, 1]\n",
    "  - Target: 8\n",
    "  - Steps: Check 3 → 5 → 2 → 8 (found!).\n",
    "- Time Complexity: O(n) (worst case).\n",
    "\n",
    "'''\n",
    "\n",
    "def linear_search(arr, target):\n",
    "    for i in range(len(arr)):\n",
    "        if arr[i] == target:\n",
    "            return i  # Return the index of the target\n",
    "    return -1  # Target not found\n",
    "\n",
    "# Example\n",
    "arr = [3, 5, 2, 8, 1]\n",
    "target = 8\n",
    "print(linear_search(arr, target))  \n",
    "\n",
    "# Output: 3\n"
   ]
  },
  {
   "cell_type": "markdown",
   "metadata": {},
   "source": [
    "#### 2. Binary Search"
   ]
  },
  {
   "cell_type": "code",
   "execution_count": 2,
   "metadata": {},
   "outputs": [
    {
     "name": "stdout",
     "output_type": "stream",
     "text": [
      "3\n"
     ]
    }
   ],
   "source": [
    "'''\n",
    "- What it does: It works on sorted lists. It repeatedly divides the list in half and checks the middle element.\n",
    "- Example:\n",
    "  - Sorted List: [1, 2, 3, 5, 8]\n",
    "  - Target: 5\n",
    "  - Steps:\n",
    "    1. Middle element: 3 (too small, discard left half).\n",
    "    2. New middle: 5 (found!).\n",
    "- Time Complexity: O(log n).\n",
    "\n",
    "'''\n",
    "\n",
    "def binary_search(arr, target):\n",
    "    left, right = 0, len(arr) - 1\n",
    "    while left <= right:\n",
    "        mid = (left + right) // 2\n",
    "        if arr[mid] == target:\n",
    "            return mid  # Target found\n",
    "        elif arr[mid] < target:\n",
    "            left = mid + 1\n",
    "        else:\n",
    "            right = mid - 1\n",
    "    return -1  # Target not found\n",
    "\n",
    "# Example\n",
    "arr = [1, 2, 3, 5, 8]\n",
    "target = 5\n",
    "print(binary_search(arr, target))  \n",
    "\n",
    "# Output: 3\n"
   ]
  },
  {
   "cell_type": "markdown",
   "metadata": {},
   "source": [
    "#### 3. Interpolation Search"
   ]
  },
  {
   "cell_type": "code",
   "execution_count": 3,
   "metadata": {},
   "outputs": [
    {
     "name": "stdout",
     "output_type": "stream",
     "text": [
      "3\n"
     ]
    }
   ],
   "source": [
    "'''\n",
    "- What it does: An improved version of binary search for uniformly distributed sorted data. It guesses where the target might be based on values.\n",
    "- Example:\n",
    "  - Sorted List: [1, 2, 3, 5, 8]\n",
    "  - Target: 5\n",
    "  - Steps:\n",
    "    1. Guess position using formula: pos = low + ((target - arr[low]) * (high - low)) / (arr[high] - arr[low]).\n",
    "    2. Check 5 directly (found!).\n",
    "- Time Complexity: O(log log n) on average.\n",
    "\n",
    "'''\n",
    "\n",
    "def interpolation_search(arr, target):\n",
    "    left, right = 0, len(arr) - 1\n",
    "    while left <= right and arr[left] <= target <= arr[right]:\n",
    "        pos = left + ((target - arr[left]) * (right - left)) // (arr[right] - arr[left])\n",
    "        if arr[pos] == target:\n",
    "            return pos  # Target found\n",
    "        elif arr[pos] < target:\n",
    "            left = pos + 1\n",
    "        else:\n",
    "            right = pos - 1\n",
    "    return -1  # Target not found\n",
    "\n",
    "# Example\n",
    "arr = [1, 2, 3, 5, 8]\n",
    "target = 5\n",
    "print(interpolation_search(arr, target))  \n",
    "\n",
    "# Output: 3\n"
   ]
  }
 ],
 "metadata": {
  "kernelspec": {
   "display_name": "Python 3",
   "language": "python",
   "name": "python3"
  },
  "language_info": {
   "codemirror_mode": {
    "name": "ipython",
    "version": 3
   },
   "file_extension": ".py",
   "mimetype": "text/x-python",
   "name": "python",
   "nbconvert_exporter": "python",
   "pygments_lexer": "ipython3",
   "version": "3.11.5"
  }
 },
 "nbformat": 4,
 "nbformat_minor": 2
}
