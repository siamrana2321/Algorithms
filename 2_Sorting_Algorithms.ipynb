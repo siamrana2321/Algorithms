{
 "cells": [
  {
   "cell_type": "markdown",
   "metadata": {},
   "source": [
    "#### 1. Bubble Sort"
   ]
  },
  {
   "cell_type": "code",
   "execution_count": 1,
   "metadata": {},
   "outputs": [
    {
     "name": "stdout",
     "output_type": "stream",
     "text": [
      "[2, 3, 5, 8]\n"
     ]
    }
   ],
   "source": [
    "'''\n",
    "- What it does: Repeatedly swaps adjacent elements if they are in the wrong order.\n",
    "- Example:\n",
    "  - List: [5, 3, 8, 2]\n",
    "  - Steps:\n",
    "    1. Compare 5 and 3 → swap → [3, 5, 8, 2].\n",
    "    2. Compare 5 and 8 → no swap.\n",
    "    3. Compare 8 and 2 → swap → [3, 5, 2, 8].\n",
    "    4. Repeat until sorted.\n",
    "- Time Complexity: O(n²).\n",
    "\n",
    "'''\n",
    "\n",
    "def bubble_sort(arr):\n",
    "    n = len(arr)\n",
    "    for i in range(n):\n",
    "        for j in range(0, n - i - 1):\n",
    "            if arr[j] > arr[j + 1]:\n",
    "                arr[j], arr[j + 1] = arr[j + 1], arr[j]  # Swap\n",
    "\n",
    "# Example\n",
    "arr = [5, 3, 8, 2]\n",
    "bubble_sort(arr)\n",
    "print(arr)  \n",
    "\n",
    "# Output: [2, 3, 5, 8]"
   ]
  },
  {
   "cell_type": "markdown",
   "metadata": {},
   "source": [
    "#### 2. Insertion Sort"
   ]
  },
  {
   "cell_type": "code",
   "execution_count": 2,
   "metadata": {},
   "outputs": [
    {
     "name": "stdout",
     "output_type": "stream",
     "text": [
      "[2, 3, 5, 8]\n"
     ]
    }
   ],
   "source": [
    "'''\n",
    "- What it does: Builds the sorted list one element at a time by inserting each element into its correct position.\n",
    "- Example:\n",
    "  - List: [5, 3, 8, 2]\n",
    "  - Steps:\n",
    "    1. Start with [5].\n",
    "    2. Insert 3 → [3, 5].\n",
    "    3. Insert 8 → [3, 5, 8].\n",
    "    4. Insert 2 → [2, 3, 5, 8].\n",
    "- Time Complexity: O(n²).\n",
    "\n",
    "'''\n",
    "\n",
    "def insertion_sort(arr):\n",
    "    for i in range(1, len(arr)):\n",
    "        key = arr[i]\n",
    "        j = i - 1\n",
    "        while j >= 0 and key < arr[j]:\n",
    "            arr[j + 1] = arr[j]\n",
    "            j -= 1\n",
    "        arr[j + 1] = key\n",
    "\n",
    "# Example\n",
    "arr = [5, 3, 8, 2]\n",
    "insertion_sort(arr)\n",
    "print(arr)  \n",
    "\n",
    "# Output: [2, 3, 5, 8]"
   ]
  },
  {
   "cell_type": "markdown",
   "metadata": {},
   "source": [
    "#### 3. Merge Sort"
   ]
  },
  {
   "cell_type": "code",
   "execution_count": 3,
   "metadata": {},
   "outputs": [
    {
     "name": "stdout",
     "output_type": "stream",
     "text": [
      "[2, 3, 5, 8]\n"
     ]
    }
   ],
   "source": [
    "'''\n",
    "- What it does: Divides the list into halves, sorts each half, and then merges them.\n",
    "- Example:\n",
    "  - List: [5, 3, 8, 2]\n",
    "  - Steps:\n",
    "    1. Split into [5, 3] and [8, 2].\n",
    "    2. Sort each half → [3, 5] and [2, 8].\n",
    "    3. Merge → [2, 3, 5, 8].\n",
    "- Time Complexity: O(n log n).\n",
    "\n",
    "'''\n",
    "\n",
    "def merge_sort(arr):\n",
    "    if len(arr) > 1:\n",
    "        mid = len(arr) // 2\n",
    "        left = arr[:mid]\n",
    "        right = arr[mid:]\n",
    "        merge_sort(left)\n",
    "        merge_sort(right)\n",
    "\n",
    "        i = j = k = 0\n",
    "        while i < len(left) and j < len(right):\n",
    "            if left[i] < right[j]:\n",
    "                arr[k] = left[i]\n",
    "                i += 1\n",
    "            else:\n",
    "                arr[k] = right[j]\n",
    "                j += 1\n",
    "            k += 1\n",
    "\n",
    "        while i < len(left):\n",
    "            arr[k] = left[i]\n",
    "            i += 1\n",
    "            k += 1\n",
    "\n",
    "        while j < len(right):\n",
    "            arr[k] = right[j]\n",
    "            j += 1\n",
    "            k += 1\n",
    "\n",
    "# Example\n",
    "arr = [5, 3, 8, 2]\n",
    "merge_sort(arr)\n",
    "print(arr)\n",
    "\n",
    "# Output: [2, 3, 5, 8]"
   ]
  },
  {
   "cell_type": "markdown",
   "metadata": {},
   "source": [
    "#### 4. Quick Sort"
   ]
  },
  {
   "cell_type": "code",
   "execution_count": 4,
   "metadata": {},
   "outputs": [
    {
     "name": "stdout",
     "output_type": "stream",
     "text": [
      "[2, 3, 5, 8]\n"
     ]
    }
   ],
   "source": [
    "'''\n",
    "- What it does: Picks a \"pivot\" element and partitions the list into elements smaller and larger than the pivot.\n",
    "- Example:\n",
    "  - List: [5, 3, 8, 2]\n",
    "  - Steps:\n",
    "    1. Pick pivot (e.g., 5).\n",
    "    2. Partition: [3, 2] (smaller), [8] (larger).\n",
    "    3. Recursively sort [3, 2] and [8].\n",
    "    4. Combine: [2, 3, 5, 8].\n",
    "- Time Complexity: O(n log n) on average.\n",
    "\n",
    "'''\n",
    "\n",
    "def quick_sort(arr):\n",
    "    if len(arr) <= 1:\n",
    "        return arr\n",
    "    pivot = arr[len(arr) // 2]\n",
    "    left = [x for x in arr if x < pivot]\n",
    "    middle = [x for x in arr if x == pivot]\n",
    "    right = [x for x in arr if x > pivot]\n",
    "    return quick_sort(left) + middle + quick_sort(right)\n",
    "\n",
    "# Example\n",
    "arr = [5, 3, 8, 2]\n",
    "sorted_arr = quick_sort(arr)\n",
    "print(sorted_arr)  \n",
    "\n",
    "# Output: [2, 3, 5, 8]"
   ]
  },
  {
   "cell_type": "markdown",
   "metadata": {},
   "source": [
    "#### 5. Heap Sort"
   ]
  },
  {
   "cell_type": "code",
   "execution_count": 5,
   "metadata": {},
   "outputs": [
    {
     "name": "stdout",
     "output_type": "stream",
     "text": [
      "[2, 3, 5, 8]\n"
     ]
    }
   ],
   "source": [
    "'''\n",
    "- What it does: Builds a heap (a type of binary tree) and repeatedly extracts the largest element.\n",
    "- Example:\n",
    "  - List: [5, 3, 8, 2]\n",
    "  - Steps:\n",
    "    1. Build a max-heap: [8, 5, 3, 2].\n",
    "    2. Extract 8 → [5, 3, 2].\n",
    "    3. Extract 5 → [3, 2].\n",
    "    4. Extract 3 → [2].\n",
    "    5. Extract 2 → sorted list: [2, 3, 5, 8].\n",
    "- Time Complexity: O(n log n).\n",
    "\n",
    "'''\n",
    "\n",
    "def heapify(arr, n, i):\n",
    "    largest = i\n",
    "    left = 2 * i + 1\n",
    "    right = 2 * i + 2\n",
    "\n",
    "    if left < n and arr[left] > arr[largest]:\n",
    "        largest = left\n",
    "    if right < n and arr[right] > arr[largest]:\n",
    "        largest = right\n",
    "\n",
    "    if largest != i:\n",
    "        arr[i], arr[largest] = arr[largest], arr[i]\n",
    "        heapify(arr, n, largest)\n",
    "\n",
    "def heap_sort(arr):\n",
    "    n = len(arr)\n",
    "    for i in range(n // 2 - 1, -1, -1):\n",
    "        heapify(arr, n, i)\n",
    "    for i in range(n - 1, 0, -1):\n",
    "        arr[i], arr[0] = arr[0], arr[i]\n",
    "        heapify(arr, i, 0)\n",
    "\n",
    "# Example\n",
    "arr = [5, 3, 8, 2]\n",
    "heap_sort(arr)\n",
    "print(arr)  \n",
    "\n",
    "# Output: [2, 3, 5, 8]"
   ]
  },
  {
   "cell_type": "markdown",
   "metadata": {},
   "source": [
    "#### 6. Radix Sort"
   ]
  },
  {
   "cell_type": "code",
   "execution_count": 6,
   "metadata": {},
   "outputs": [
    {
     "name": "stdout",
     "output_type": "stream",
     "text": [
      "[45, 75, 90, 170]\n"
     ]
    }
   ],
   "source": [
    "'''\n",
    "- What it does: Sorts numbers digit by digit (from least significant to most significant).\n",
    "- Example:\n",
    "  - List: [170, 45, 75, 90]\n",
    "  - Steps:\n",
    "    1. Sort by units place: [170, 90, 45, 75].\n",
    "    2. Sort by tens place: [45, 75, 170, 90].\n",
    "    3. Sort by hundreds place: [45, 75, 90, 170].\n",
    "- Time Complexity: O(nk), where k is the number of digits.\n",
    "\n",
    "'''\n",
    "\n",
    "def counting_sort(arr, exp):\n",
    "    n = len(arr)\n",
    "    output = [0] * n\n",
    "    count = [0] * 10\n",
    "\n",
    "    for i in range(n):\n",
    "        index = arr[i] // exp\n",
    "        count[index % 10] += 1\n",
    "\n",
    "    for i in range(1, 10):\n",
    "        count[i] += count[i - 1]\n",
    "\n",
    "    i = n - 1\n",
    "    while i >= 0:\n",
    "        index = arr[i] // exp\n",
    "        output[count[index % 10] - 1] = arr[i]\n",
    "        count[index % 10] -= 1\n",
    "        i -= 1\n",
    "\n",
    "    for i in range(n):\n",
    "        arr[i] = output[i]\n",
    "\n",
    "def radix_sort(arr):\n",
    "    max_num = max(arr)\n",
    "    exp = 1\n",
    "    while max_num // exp > 0:\n",
    "        counting_sort(arr, exp)\n",
    "        exp *= 10\n",
    "\n",
    "# Example\n",
    "arr = [170, 45, 75, 90]\n",
    "radix_sort(arr)\n",
    "print(arr)  \n",
    "\n",
    "# Output: [45, 75, 90, 170]"
   ]
  },
  {
   "cell_type": "markdown",
   "metadata": {},
   "source": [
    "#### 7. Bucket Sort"
   ]
  },
  {
   "cell_type": "code",
   "execution_count": 7,
   "metadata": {},
   "outputs": [
    {
     "name": "stdout",
     "output_type": "stream",
     "text": [
      "[0.12, 0.32, 0.42, 0.75]\n"
     ]
    }
   ],
   "source": [
    "'''\n",
    "- What it does: Divides the list into \"buckets\" and sorts each bucket individually.\n",
    "- Example:\n",
    "  - List: [0.42, 0.32, 0.75, 0.12]\n",
    "  - Steps:\n",
    "    1. Create buckets (e.g., 0.1-0.2, 0.2-0.3, etc.).\n",
    "    2. Distribute elements into buckets.\n",
    "    3. Sort each bucket.\n",
    "    4. Combine buckets.\n",
    "- Time Complexity: O(n + k).\n",
    "\n",
    "'''\n",
    "\n",
    "def bucket_sort(arr):\n",
    "    buckets = [[] for _ in range(10)]\n",
    "    for num in arr:\n",
    "        index = int(num * 10)\n",
    "        buckets[index].append(num)\n",
    "    for bucket in buckets:\n",
    "        bucket.sort()\n",
    "    sorted_arr = []\n",
    "    for bucket in buckets:\n",
    "        sorted_arr.extend(bucket)\n",
    "    return sorted_arr\n",
    "\n",
    "# Example\n",
    "arr = [0.42, 0.32, 0.75, 0.12]\n",
    "sorted_arr = bucket_sort(arr)\n",
    "print(sorted_arr)\n",
    "\n",
    "# Output: [0.12, 0.32, 0.42, 0.75]"
   ]
  }
 ],
 "metadata": {
  "kernelspec": {
   "display_name": "Python 3",
   "language": "python",
   "name": "python3"
  },
  "language_info": {
   "codemirror_mode": {
    "name": "ipython",
    "version": 3
   },
   "file_extension": ".py",
   "mimetype": "text/x-python",
   "name": "python",
   "nbconvert_exporter": "python",
   "pygments_lexer": "ipython3",
   "version": "3.11.5"
  }
 },
 "nbformat": 4,
 "nbformat_minor": 2
}
