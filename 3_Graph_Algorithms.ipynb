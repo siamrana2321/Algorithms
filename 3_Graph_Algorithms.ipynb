{
 "cells": [
  {
   "cell_type": "markdown",
   "metadata": {},
   "source": [
    "#### 1. Dijkstra's Algorithm"
   ]
  },
  {
   "cell_type": "code",
   "execution_count": 25,
   "metadata": {},
   "outputs": [
    {
     "name": "stdout",
     "output_type": "stream",
     "text": [
      "{'A': 0, 'B': 1, 'C': 3}\n"
     ]
    }
   ],
   "source": [
    "'''\n",
    "- What it does: Finds the shortest path from a start node to all other nodes in a weighted graph.\n",
    "- Example:\n",
    "  - Graph: A → B (weight 1), A → C (weight 4), B → C (weight 2).\n",
    "  - Shortest path from A to C: A → B → C (total weight 3).\n",
    "- Time Complexity: O(V²) or O(E log V) with a priority queue.\n",
    "\n",
    "'''\n",
    "\n",
    "import heapq\n",
    "\n",
    "def dijkstra(graph, start):\n",
    "    distances = {node: float('inf') for node in graph}\n",
    "    distances[start] = 0\n",
    "    pq = [(0, start)]\n",
    "\n",
    "    while pq:\n",
    "        current_dist, current_node = heapq.heappop(pq)\n",
    "        if current_dist > distances[current_node]:\n",
    "            continue\n",
    "        for neighbor, weight in graph[current_node].items():\n",
    "            distance = current_dist + weight\n",
    "            if distance < distances[neighbor]:\n",
    "                distances[neighbor] = distance\n",
    "                heapq.heappush(pq, (distance, neighbor))\n",
    "\n",
    "    return distances\n",
    "\n",
    "# Example\n",
    "graph = {\n",
    "    'A': {'B': 1, 'C': 4},\n",
    "    'B': {'C': 2},\n",
    "    'C': {}\n",
    "}\n",
    "print(dijkstra(graph, 'A'))  \n",
    "\n",
    "# Output: {'A': 0, 'B': 1, 'C': 3}"
   ]
  },
  {
   "cell_type": "markdown",
   "metadata": {},
   "source": [
    "#### 2. Bellman-Ford Algorithm"
   ]
  },
  {
   "cell_type": "code",
   "execution_count": 26,
   "metadata": {},
   "outputs": [
    {
     "name": "stdout",
     "output_type": "stream",
     "text": [
      "{'A': 0, 'B': 1, 'C': 3}\n"
     ]
    }
   ],
   "source": [
    "'''\n",
    "- What it does: Finds the shortest path in a graph with negative weights.\n",
    "- Example:\n",
    "  - Graph: A → B (weight 1), B → C (weight -2), A → C (weight 4).\n",
    "  - Shortest path from A to C: A → B → C (total weight -1).\n",
    "- Time Complexity: O(V * E).\n",
    "\n",
    "'''\n",
    "\n",
    "def bellman_ford(graph, start):\n",
    "    distances = {node: float('inf') for node in graph}\n",
    "    distances[start] = 0\n",
    "\n",
    "    for _ in range(len(graph) - 1):\n",
    "        for u in graph:\n",
    "            for v, weight in graph[u].items():\n",
    "                if distances[u] + weight < distances[v]:\n",
    "                    distances[v] = distances[u] + weight\n",
    "\n",
    "    return distances\n",
    "\n",
    "# Example\n",
    "graph = {\n",
    "    'A': {'B': 1, 'C': 4},\n",
    "    'B': {'C': 2},\n",
    "    'C': {}\n",
    "}\n",
    "print(bellman_ford(graph, 'A'))  \n",
    "\n",
    "# Output: {'A': 0, 'B': 1, 'C': 3}"
   ]
  },
  {
   "cell_type": "markdown",
   "metadata": {},
   "source": [
    "#### 3. Floyd-Warshall Algorithm"
   ]
  },
  {
   "cell_type": "code",
   "execution_count": 27,
   "metadata": {},
   "outputs": [
    {
     "name": "stdout",
     "output_type": "stream",
     "text": [
      "[[0, 1, 3], [inf, 0, 2], [inf, inf, 0]]\n"
     ]
    }
   ],
   "source": [
    "'''\n",
    "- What it does: Finds the shortest paths between all pairs of nodes in a graph.\n",
    "- Example:\n",
    "  - Graph: A → B (weight 1), B → C (weight 2), A → C (weight 4).\n",
    "  - Shortest path from A to C: A → B → C (total weight 3).\n",
    "- Time Complexity: O(V³).\n",
    "\n",
    "'''\n",
    "\n",
    "def floyd_warshall(graph):\n",
    "    n = len(graph)\n",
    "    dist = [[float('inf')] * n for _ in range(n)]\n",
    "    for i in range(n):\n",
    "        dist[i][i] = 0\n",
    "    for u in graph:\n",
    "        for v in graph[u]:\n",
    "            dist[u][v] = graph[u][v]\n",
    "\n",
    "    for k in range(n):\n",
    "        for i in range(n):\n",
    "            for j in range(n):\n",
    "                dist[i][j] = min(dist[i][j], dist[i][k] + dist[k][j])\n",
    "\n",
    "    return dist\n",
    "\n",
    "# Example\n",
    "graph = {0: {1: 1, 2: 4}, 1: {2: 2}, 2: {} }\n",
    "print(floyd_warshall(graph))  \n",
    "\n",
    "# Output: [[0, 1, 3], [inf, 0, 2], [inf, inf, 0]]"
   ]
  },
  {
   "cell_type": "markdown",
   "metadata": {},
   "source": [
    "#### 4. Kruskal's Algorithm"
   ]
  },
  {
   "cell_type": "code",
   "execution_count": 28,
   "metadata": {},
   "outputs": [
    {
     "name": "stdout",
     "output_type": "stream",
     "text": [
      "[(0, 1, 1), (1, 2, 2)]\n"
     ]
    }
   ],
   "source": [
    "'''\n",
    "- What it does: Finds the minimum spanning tree (MST) of a graph.\n",
    "- Example:\n",
    "  - Graph: A-B (weight 1), B-C (weight 2), A-C (weight 4).\n",
    "  - MST: A-B and B-C (total weight 3).\n",
    "- Time Complexity: O(E log E).\n",
    "\n",
    "'''\n",
    "\n",
    "class UnionFind:\n",
    "    def __init__(self, n):\n",
    "        self.parent = list(range(n))\n",
    "        self.rank = [1] * n\n",
    "\n",
    "    def find(self, u):\n",
    "        if self.parent[u] != u:\n",
    "            self.parent[u] = self.find(self.parent[u])\n",
    "        return self.parent[u]\n",
    "\n",
    "    def union(self, u, v):\n",
    "        root_u = self.find(u)\n",
    "        root_v = self.find(v)\n",
    "        if root_u != root_v:\n",
    "            if self.rank[root_u] > self.rank[root_v]:\n",
    "                self.parent[root_v] = root_u\n",
    "            elif self.rank[root_u] < self.rank[root_v]:\n",
    "                self.parent[root_u] = root_v\n",
    "            else:\n",
    "                self.parent[root_v] = root_u\n",
    "                self.rank[root_u] += 1\n",
    "\n",
    "def kruskal(edges, n):\n",
    "    edges.sort(key=lambda x: x[2])\n",
    "    uf = UnionFind(n)\n",
    "    mst = []\n",
    "    for u, v, weight in edges:\n",
    "        if uf.find(u) != uf.find(v):\n",
    "            uf.union(u, v)\n",
    "            mst.append((u, v, weight))\n",
    "    return mst\n",
    "\n",
    "# Example\n",
    "edges = [(0, 1, 1), (1, 2, 2), (0, 2, 4)]\n",
    "n = 3\n",
    "print(kruskal(edges, n))  \n",
    "\n",
    "# Output: [(0, 1, 1), (1, 2, 2)]"
   ]
  },
  {
   "cell_type": "markdown",
   "metadata": {},
   "source": [
    "#### 5. Prim's Algorithm"
   ]
  },
  {
   "cell_type": "code",
   "execution_count": 29,
   "metadata": {},
   "outputs": [
    {
     "name": "stdout",
     "output_type": "stream",
     "text": [
      "[(0, 1, 1), (1, 0, 1), (1, 2, 2)]\n"
     ]
    }
   ],
   "source": [
    "'''\n",
    "- What it does: Also finds the MST but starts from a single node and grows the tree.\n",
    "- Example:\n",
    "  - Graph: A-B (weight 1), B-C (weight 2), A-C (weight 4).\n",
    "  - MST: A-B and B-C (total weight 3).\n",
    "- Time Complexity: O(E log V).\n",
    "\n",
    "'''\n",
    "\n",
    "import heapq\n",
    "\n",
    "def prim(graph, start):\n",
    "    mst = []  # Stores the edges of the MST\n",
    "    visited = set()  # Tracks visited nodes\n",
    "    edges = [(weight, start, neighbor) for neighbor, weight in graph[start].items()]\n",
    "    heapq.heapify(edges)  # Convert the list into a min-heap\n",
    "\n",
    "    while edges:\n",
    "        weight, u, v = heapq.heappop(edges)  # Get the edge with the smallest weight\n",
    "        if v not in visited:  # If the node hasn't been visited\n",
    "            visited.add(v)  # Mark it as visited\n",
    "            mst.append((u, v, weight))  # Add the edge to the MST\n",
    "            for neighbor, weight in graph[v].items():  # Explore neighbors of v\n",
    "                if neighbor not in visited:  # Only add edges to unvisited nodes\n",
    "                    heapq.heappush(edges, (weight, v, neighbor))\n",
    "\n",
    "    return mst\n",
    "\n",
    "# Example\n",
    "graph = {\n",
    "    0: {1: 1, 2: 4},\n",
    "    1: {0: 1, 2: 2},\n",
    "    2: {0: 4, 1: 2}\n",
    "}\n",
    "print(prim(graph, 0))\n",
    "\n",
    "# Output: [(0, 1, 1), (1, 2, 2)]"
   ]
  },
  {
   "cell_type": "markdown",
   "metadata": {},
   "source": [
    "#### 6. DFS (Depth-First Search)"
   ]
  },
  {
   "cell_type": "code",
   "execution_count": 30,
   "metadata": {},
   "outputs": [
    {
     "name": "stdout",
     "output_type": "stream",
     "text": [
      "A B D C "
     ]
    }
   ],
   "source": [
    "'''\n",
    "- What it does: Explores as far as possible along each branch before backtracking.\n",
    "- Example:\n",
    "  - Graph: A → B → C → D.\n",
    "  - DFS traversal: A → B → C → D.\n",
    "- Time Complexity: O(V + E).\n",
    "\n",
    "'''\n",
    "\n",
    "def dfs(graph, start, visited=None):\n",
    "    if visited is None:\n",
    "        visited = set()\n",
    "    visited.add(start)\n",
    "    print(start, end=\" \")\n",
    "    for neighbor in graph[start]:\n",
    "        if neighbor not in visited:\n",
    "            dfs(graph, neighbor, visited)\n",
    "\n",
    "# Example\n",
    "graph = {\n",
    "    'A': ['B', 'C'],\n",
    "    'B': ['D'],\n",
    "    'C': [],\n",
    "    'D': []\n",
    "}\n",
    "dfs(graph, 'A')  \n",
    "\n",
    "# Output: A B D C"
   ]
  },
  {
   "cell_type": "markdown",
   "metadata": {},
   "source": [
    "#### 7. BFS (Breadth-First Search)"
   ]
  },
  {
   "cell_type": "code",
   "execution_count": 31,
   "metadata": {},
   "outputs": [
    {
     "name": "stdout",
     "output_type": "stream",
     "text": [
      "A B C D "
     ]
    }
   ],
   "source": [
    "'''\n",
    "- What it does: Explores all neighbors at the present depth before moving deeper.\n",
    "- Example:\n",
    "  - Graph: A → B, A → C, B → D.\n",
    "  - BFS traversal: A → B → C → D.\n",
    "- Time Complexity: O(V + E).\n",
    "\n",
    "'''\n",
    "\n",
    "from collections import deque\n",
    "\n",
    "def bfs(graph, start):\n",
    "    visited = set()\n",
    "    queue = deque([start])\n",
    "    visited.add(start)\n",
    "    while queue:\n",
    "        node = queue.popleft()\n",
    "        print(node, end=\" \")\n",
    "        for neighbor in graph[node]:\n",
    "            if neighbor not in visited:\n",
    "                visited.add(neighbor)\n",
    "                queue.append(neighbor)\n",
    "\n",
    "# Example\n",
    "graph = {\n",
    "    'A': ['B', 'C'],\n",
    "    'B': ['D'],\n",
    "    'C': [],\n",
    "    'D': []\n",
    "}\n",
    "bfs(graph, 'A')  \n",
    "\n",
    "# Output: A B C D"
   ]
  }
 ],
 "metadata": {
  "kernelspec": {
   "display_name": "Python 3",
   "language": "python",
   "name": "python3"
  },
  "language_info": {
   "codemirror_mode": {
    "name": "ipython",
    "version": 3
   },
   "file_extension": ".py",
   "mimetype": "text/x-python",
   "name": "python",
   "nbconvert_exporter": "python",
   "pygments_lexer": "ipython3",
   "version": "3.11.5"
  }
 },
 "nbformat": 4,
 "nbformat_minor": 2
}
