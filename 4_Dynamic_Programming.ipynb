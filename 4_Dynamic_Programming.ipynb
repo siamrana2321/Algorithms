{
 "cells": [
  {
   "cell_type": "markdown",
   "metadata": {},
   "source": [
    "#### 1. Kadane's Algorithm"
   ]
  },
  {
   "cell_type": "code",
   "execution_count": 2,
   "metadata": {},
   "outputs": [
    {
     "name": "stdout",
     "output_type": "stream",
     "text": [
      "6\n"
     ]
    }
   ],
   "source": [
    "'''\n",
    "- What it does: Finds the maximum sum of a contiguous subarray.\n",
    "- Example:\n",
    "  - Array: [-2, 1, -3, 4, -1, 2, 1, -5, 4]\n",
    "  - Maximum subarray: [4, -1, 2, 1] (sum = 6).\n",
    "- Time Complexity: O(n).\n",
    "\n",
    "'''\n",
    "\n",
    "def kadane(arr):\n",
    "    max_current = max_global = arr[0]\n",
    "    for i in range(1, len(arr)):\n",
    "        max_current = max(arr[i], max_current + arr[i])\n",
    "        if max_current > max_global:\n",
    "            max_global = max_current\n",
    "    return max_global\n",
    "\n",
    "# Example\n",
    "arr = [-2, 1, -3, 4, -1, 2, 1, -5, 4]\n",
    "print(kadane(arr))  \n",
    "\n",
    "# Output: 6"
   ]
  },
  {
   "cell_type": "markdown",
   "metadata": {},
   "source": [
    "#### 2. Longest Common Subsequence (LCS)"
   ]
  },
  {
   "cell_type": "code",
   "execution_count": 3,
   "metadata": {},
   "outputs": [
    {
     "name": "stdout",
     "output_type": "stream",
     "text": [
      "2\n"
     ]
    }
   ],
   "source": [
    "'''\n",
    "- What it does: Finds the longest sequence that appears in both strings.\n",
    "- Example:\n",
    "  - Strings: \"ABC\" and \"AC\".\n",
    "  - LCS: \"AC\".\n",
    "- Time Complexity: O(m * n), where m and n are string lengths.\n",
    "\n",
    "'''\n",
    "\n",
    "def lcs(X, Y):\n",
    "    m, n = len(X), len(Y)\n",
    "    dp = [[0] * (n + 1) for _ in range(m + 1)]\n",
    "    for i in range(1, m + 1):\n",
    "        for j in range(1, n + 1):\n",
    "            if X[i - 1] == Y[j - 1]:\n",
    "                dp[i][j] = dp[i - 1][j - 1] + 1\n",
    "            else:\n",
    "                dp[i][j] = max(dp[i - 1][j], dp[i][j - 1])\n",
    "    return dp[m][n]\n",
    "\n",
    "# Example\n",
    "X = \"ABC\"\n",
    "Y = \"AC\"\n",
    "print(lcs(X, Y))  \n",
    "\n",
    "# Output: 2"
   ]
  },
  {
   "cell_type": "markdown",
   "metadata": {},
   "source": [
    "#### 3. Longest Increasing Subsequence (LIS)"
   ]
  },
  {
   "cell_type": "code",
   "execution_count": 4,
   "metadata": {},
   "outputs": [
    {
     "name": "stdout",
     "output_type": "stream",
     "text": [
      "3\n"
     ]
    }
   ],
   "source": [
    "'''\n",
    "- What it does: Finds the longest subsequence of a sequence that is strictly increasing.\n",
    "- Example:\n",
    "  - Sequence: [10, 22, 9, 33, 21]\n",
    "  - LIS: [10, 22, 33].\n",
    "- Time Complexity: O(n²) or O(n log n) with binary search.\n",
    "\n",
    "'''\n",
    "\n",
    "def lis(arr):\n",
    "    dp = [1] * len(arr)\n",
    "    for i in range(1, len(arr)):\n",
    "        for j in range(i):\n",
    "            if arr[i] > arr[j]:\n",
    "                dp[i] = max(dp[i], dp[j] + 1)\n",
    "    return max(dp)\n",
    "\n",
    "# Example\n",
    "arr = [10, 22, 9, 33, 21]\n",
    "print(lis(arr))  \n",
    "\n",
    "# Output: 3"
   ]
  },
  {
   "cell_type": "markdown",
   "metadata": {},
   "source": [
    "#### 4. Knapsack Problem"
   ]
  },
  {
   "cell_type": "code",
   "execution_count": 5,
   "metadata": {},
   "outputs": [
    {
     "name": "stdout",
     "output_type": "stream",
     "text": [
      "7\n"
     ]
    }
   ],
   "source": [
    "'''\n",
    "- What it does: Maximizes the value of items in a knapsack without exceeding its capacity.\n",
    "- Example:\n",
    "  - Items: (weight 2, value 3), (weight 3, value 4).\n",
    "  - Knapsack capacity: 5.\n",
    "  - Maximum value: 7 (take both items).\n",
    "- Time Complexity: O(n * W), where W is the capacity.\n",
    "\n",
    "'''\n",
    "\n",
    "def knapsack(weights, values, capacity):\n",
    "    n = len(weights)\n",
    "    dp = [[0] * (capacity + 1) for _ in range(n + 1)]\n",
    "    for i in range(1, n + 1):\n",
    "        for w in range(1, capacity + 1):\n",
    "            if weights[i - 1] <= w:\n",
    "                dp[i][w] = max(dp[i - 1][w], dp[i - 1][w - weights[i - 1]] + values[i - 1])\n",
    "            else:\n",
    "                dp[i][w] = dp[i - 1][w]\n",
    "    return dp[n][capacity]\n",
    "\n",
    "# Example\n",
    "weights = [2, 3]\n",
    "values = [3, 4]\n",
    "capacity = 5\n",
    "print(knapsack(weights, values, capacity))\n",
    "\n",
    "# Output: 7"
   ]
  },
  {
   "cell_type": "markdown",
   "metadata": {},
   "source": [
    "#### 5. Edit Distance"
   ]
  },
  {
   "cell_type": "code",
   "execution_count": 6,
   "metadata": {},
   "outputs": [
    {
     "name": "stdout",
     "output_type": "stream",
     "text": [
      "3\n"
     ]
    }
   ],
   "source": [
    "'''\n",
    "- What it does: Finds the minimum number of operations (insert, delete, replace) to convert one string to another.\n",
    "- Example:\n",
    "  - Strings: \"kitten\" → \"sitting\".\n",
    "  - Edit distance: 3 (replace 'k' with 's', replace 'e' with 'i', insert 'g').\n",
    "- Time Complexity: O(m * n).\n",
    "\n",
    "'''\n",
    "\n",
    "def edit_distance(str1, str2):\n",
    "    m, n = len(str1), len(str2)\n",
    "    dp = [[0] * (n + 1) for _ in range(m + 1)]\n",
    "    for i in range(m + 1):\n",
    "        for j in range(n + 1):\n",
    "            if i == 0:\n",
    "                dp[i][j] = j\n",
    "            elif j == 0:\n",
    "                dp[i][j] = i\n",
    "            elif str1[i - 1] == str2[j - 1]:\n",
    "                dp[i][j] = dp[i - 1][j - 1]\n",
    "            else:\n",
    "                dp[i][j] = 1 + min(dp[i - 1][j], dp[i][j - 1], dp[i - 1][j - 1])\n",
    "    return dp[m][n]\n",
    "\n",
    "# Example\n",
    "str1 = \"kitten\"\n",
    "str2 = \"sitting\"\n",
    "print(edit_distance(str1, str2))  \n",
    "\n",
    "# Output: 3"
   ]
  }
 ],
 "metadata": {
  "kernelspec": {
   "display_name": "Python 3",
   "language": "python",
   "name": "python3"
  },
  "language_info": {
   "codemirror_mode": {
    "name": "ipython",
    "version": 3
   },
   "file_extension": ".py",
   "mimetype": "text/x-python",
   "name": "python",
   "nbconvert_exporter": "python",
   "pygments_lexer": "ipython3",
   "version": "3.11.5"
  }
 },
 "nbformat": 4,
 "nbformat_minor": 2
}
