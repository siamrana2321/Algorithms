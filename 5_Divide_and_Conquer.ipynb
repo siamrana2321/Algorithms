{
 "cells": [
  {
   "cell_type": "code",
   "execution_count": null,
   "metadata": {},
   "outputs": [],
   "source": [
    "'''\n",
    "#### 1. Merge Sort\n",
    "- Already covered under Sorting Algorithms.\n",
    "#### 2. Quick Sort\n",
    "- Already covered under Sorting Algorithms.\n",
    "#### 3. Binary Search\n",
    "- Already covered under Searching Algorithms.\n",
    "\n",
    "'''"
   ]
  }
 ],
 "metadata": {
  "kernelspec": {
   "display_name": "Python 3",
   "language": "python",
   "name": "python3"
  },
  "language_info": {
   "name": "python",
   "version": "3.11.5"
  }
 },
 "nbformat": 4,
 "nbformat_minor": 2
}
