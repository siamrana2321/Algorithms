{
 "cells": [
  {
   "cell_type": "markdown",
   "metadata": {},
   "source": [
    "#### 1. N-Queens Problem"
   ]
  },
  {
   "cell_type": "code",
   "execution_count": 2,
   "metadata": {},
   "outputs": [
    {
     "name": "stdout",
     "output_type": "stream",
     "text": [
      "[1, 3, 0, 2]\n",
      "[2, 0, 3, 1]\n"
     ]
    },
    {
     "data": {
      "text/plain": [
       "'\\n# Output:\\n# [1, 3, 0, 2]\\n# [2, 0, 3, 1]\\n'"
      ]
     },
     "execution_count": 2,
     "metadata": {},
     "output_type": "execute_result"
    }
   ],
   "source": [
    "'''\n",
    "- What it does: Places N queens on an N×N chessboard so that no two queens threaten each other.\n",
    "- Example:\n",
    "  - For N=4, one solution:   \n",
    "    [\".Q..\",\n",
    "     \"...Q\",\n",
    "     \"Q...\",\n",
    "     \"..Q.\"]\n",
    "- Time Complexity: O(N!).\n",
    "'''\n",
    "def solve_n_queens(n):\n",
    "    def is_safe(board, row, col):\n",
    "        for i in range(row):\n",
    "            if board[i] == col or abs(board[i] - col) == abs(i - row):\n",
    "                return False\n",
    "        return True\n",
    "\n",
    "    def backtrack(row):\n",
    "        if row == n:\n",
    "            solutions.append(board[:])\n",
    "            return\n",
    "        for col in range(n):\n",
    "            if is_safe(board, row, col):\n",
    "                board[row] = col\n",
    "                backtrack(row + 1)\n",
    "                board[row] = -1\n",
    "\n",
    "    solutions = []\n",
    "    board = [-1] * n\n",
    "    backtrack(0)\n",
    "    return solutions\n",
    "\n",
    "\n",
    "# Example\n",
    "n = 4\n",
    "solutions = solve_n_queens(n)\n",
    "for solution in solutions:\n",
    "    print(solution)\n",
    "\n",
    "'''\n",
    "# Output:\n",
    "# [1, 3, 0, 2]\n",
    "# [2, 0, 3, 1]\n",
    "'''"
   ]
  },
  {
   "cell_type": "markdown",
   "metadata": {},
   "source": [
    "#### 2. Sudoku Solver"
   ]
  },
  {
   "cell_type": "code",
   "execution_count": 3,
   "metadata": {},
   "outputs": [
    {
     "name": "stdout",
     "output_type": "stream",
     "text": [
      "[5, 3, 4, 6, 7, 8, 9, 1, 2]\n",
      "[6, 7, 2, 1, 9, 5, 3, 4, 8]\n",
      "[1, 9, 8, 3, 4, 2, 5, 6, 7]\n",
      "[8, 5, 9, 7, 6, 1, 4, 2, 3]\n",
      "[4, 2, 6, 8, 5, 3, 7, 9, 1]\n",
      "[7, 1, 3, 9, 2, 4, 8, 5, 6]\n",
      "[9, 6, 1, 5, 3, 7, 2, 8, 4]\n",
      "[2, 8, 7, 4, 1, 9, 6, 3, 5]\n",
      "[3, 4, 5, 2, 8, 6, 1, 7, 9]\n"
     ]
    }
   ],
   "source": [
    "'''\n",
    "- What it does: Solves a Sudoku puzzle by filling in the grid.\n",
    "- Example:\n",
    "  - Input: \n",
    "    [[\"5\",\"3\",\".\",\".\",\"7\",\".\",\".\",\".\",\".\"],\n",
    "     [\"6\",\".\",\".\",\"1\",\"9\",\"5\",\".\",\".\",\".\"],\n",
    "     [\".\",\"9\",\"8\",\".\",\".\",\".\",\".\",\"6\",\".\"],\n",
    "     [\"8\",\".\",\".\",\".\",\"6\",\".\",\".\",\".\",\"3\"],\n",
    "     [\"4\",\".\",\".\",\"8\",\".\",\"3\",\".\",\".\",\"1\"],\n",
    "     [\"7\",\".\",\".\",\".\",\"2\",\".\",\".\",\".\",\"6\"],\n",
    "     [\".\",\"6\",\".\",\".\",\".\",\".\",\"2\",\"8\",\".\"],\n",
    "     [\".\",\".\",\".\",\"4\",\"1\",\"9\",\".\",\".\",\"5\"],\n",
    "     [\".\",\".\",\".\",\".\",\"8\",\".\",\".\",\"7\",\"9\"]]  \n",
    "  - Output: Solved Sudoku grid.\n",
    "- Time Complexity: O(9^(n*n)).\n",
    "\n",
    "'''\n",
    "\n",
    "def is_valid(board, row, col, num):\n",
    "    for i in range(9):\n",
    "        if board[row][i] == num or board[i][col] == num:\n",
    "            return False\n",
    "    start_row, start_col = 3 * (row // 3), 3 * (col // 3)\n",
    "    for i in range(3):\n",
    "        for j in range(3):\n",
    "            if board[start_row + i][start_col + j] == num:\n",
    "                return False\n",
    "    return True\n",
    "\n",
    "def solve_sudoku(board):\n",
    "    for row in range(9):\n",
    "        for col in range(9):\n",
    "            if board[row][col] == 0:\n",
    "                for num in range(1, 10):\n",
    "                    if is_valid(board, row, col, num):\n",
    "                        board[row][col] = num\n",
    "                        if solve_sudoku(board):\n",
    "                            return True\n",
    "                        board[row][col] = 0\n",
    "                return False\n",
    "    return True\n",
    "\n",
    "# Example\n",
    "board = [\n",
    "    [5, 3, 0, 0, 7, 0, 0, 0, 0],\n",
    "    [6, 0, 0, 1, 9, 5, 0, 0, 0],\n",
    "    [0, 9, 8, 0, 0, 0, 0, 6, 0],\n",
    "    [8, 0, 0, 0, 6, 0, 0, 0, 3],\n",
    "    [4, 0, 0, 8, 0, 3, 0, 0, 1],\n",
    "    [7, 0, 0, 0, 2, 0, 0, 0, 6],\n",
    "    [0, 6, 0, 0, 0, 0, 2, 8, 0],\n",
    "    [0, 0, 0, 4, 1, 9, 0, 0, 5],\n",
    "    [0, 0, 0, 0, 8, 0, 0, 7, 9]\n",
    "]\n",
    "solve_sudoku(board)\n",
    "for row in board:\n",
    "    print(row)\n",
    "\n",
    "# Output: Solved Sudoku grid\n"
   ]
  },
  {
   "cell_type": "markdown",
   "metadata": {},
   "source": [
    "#### 3. Knight's Tour Problem"
   ]
  },
  {
   "cell_type": "code",
   "execution_count": 4,
   "metadata": {},
   "outputs": [
    {
     "name": "stdout",
     "output_type": "stream",
     "text": [
      "[0, 5, 14, 9, 20]\n",
      "[13, 8, 19, 4, 15]\n",
      "[18, 1, 6, 21, 10]\n",
      "[7, 12, 23, 16, 3]\n",
      "[24, 17, 2, 11, 22]\n"
     ]
    }
   ],
   "source": [
    "'''\n",
    "- What it does: Finds a sequence of moves for a knight to visit every square on a chessboard exactly once.\n",
    "- Example:\n",
    "  - On a 5×5 board, one possible tour:\n",
    "   \n",
    "    [ 0, 11, 16,  5, 22]\n",
    "    [15,  6, 21, 10, 17]\n",
    "    [12,  1, 24, 23,  4]\n",
    "    [ 7, 14,  3, 18,  9]\n",
    "    [ 2, 13,  8, 19, 20]\n",
    "    \n",
    "- Time Complexity: O(8^(n*n)).\n",
    "\n",
    "'''\n",
    "\n",
    "def is_safe(x, y, board, n):\n",
    "    return 0 <= x < n and 0 <= y < n and board[x][y] == -1\n",
    "\n",
    "def knight_tour(n):\n",
    "    board = [[-1 for _ in range(n)] for _ in range(n)]\n",
    "    moves = [(2, 1), (1, 2), (-1, 2), (-2, 1), (-2, -1), (-1, -2), (1, -2), (2, -1)]\n",
    "\n",
    "    def backtrack(x, y, move_count):\n",
    "        if move_count == n * n:\n",
    "            return True\n",
    "        for dx, dy in moves:\n",
    "            next_x, next_y = x + dx, y + dy\n",
    "            if is_safe(next_x, next_y, board, n):\n",
    "                board[next_x][next_y] = move_count\n",
    "                if backtrack(next_x, next_y, move_count + 1):\n",
    "                    return True\n",
    "                board[next_x][next_y] = -1\n",
    "        return False\n",
    "\n",
    "    board[0][0] = 0\n",
    "    if backtrack(0, 0, 1):\n",
    "        for row in board:\n",
    "            print(row)\n",
    "    else:\n",
    "        print(\"No solution exists\")\n",
    "\n",
    "# Example\n",
    "knight_tour(5)\n",
    "\n",
    "\n",
    "# Output: A valid Knight's Tour solution\n"
   ]
  }
 ],
 "metadata": {
  "kernelspec": {
   "display_name": "Python 3",
   "language": "python",
   "name": "python3"
  },
  "language_info": {
   "codemirror_mode": {
    "name": "ipython",
    "version": 3
   },
   "file_extension": ".py",
   "mimetype": "text/x-python",
   "name": "python",
   "nbconvert_exporter": "python",
   "pygments_lexer": "ipython3",
   "version": "3.11.5"
  }
 },
 "nbformat": 4,
 "nbformat_minor": 2
}
