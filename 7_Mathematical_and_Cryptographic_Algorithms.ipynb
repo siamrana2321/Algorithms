{
 "cells": [
  {
   "cell_type": "markdown",
   "metadata": {},
   "source": [
    "#### 1. Euclidean Algorithm"
   ]
  },
  {
   "cell_type": "code",
   "execution_count": 1,
   "metadata": {},
   "outputs": [
    {
     "name": "stdout",
     "output_type": "stream",
     "text": [
      "6\n"
     ]
    }
   ],
   "source": [
    "'''\n",
    "- What it does: Finds the greatest common divisor (GCD) of two numbers.\n",
    "- Example:\n",
    "  - Numbers: 48 and 18.\n",
    "  - GCD: 6.\n",
    "- Time Complexity: O(log min(a, b)).\n",
    "\n",
    "'''\n",
    "\n",
    "def gcd(a, b):\n",
    "    while b:\n",
    "        a, b = b, a % b\n",
    "    return a\n",
    "\n",
    "# Example\n",
    "a, b = 48, 18\n",
    "print(gcd(a, b))\n",
    "\n",
    "# Output: 6"
   ]
  },
  {
   "cell_type": "markdown",
   "metadata": {},
   "source": [
    "#### 2. Sieve of Eratosthenes"
   ]
  },
  {
   "cell_type": "code",
   "execution_count": 2,
   "metadata": {},
   "outputs": [
    {
     "name": "stdout",
     "output_type": "stream",
     "text": [
      "[2, 3, 5, 7, 11, 13, 17, 19, 23, 29]\n"
     ]
    }
   ],
   "source": [
    "'''\n",
    "- What it does: Finds all prime numbers up to a given limit.\n",
    "- Example:\n",
    "  - Limit: 10.\n",
    "  - Primes: [2, 3, 5, 7].\n",
    "- Time Complexity: O(n log log n).\n",
    "\n",
    "'''\n",
    "\n",
    "def sieve_of_eratosthenes(n):\n",
    "    is_prime = [True] * (n + 1)\n",
    "    is_prime[0] = is_prime[1] = False\n",
    "    for p in range(2, int(n**0.5) + 1):\n",
    "        if is_prime[p]:\n",
    "            for i in range(p * p, n + 1, p):\n",
    "                is_prime[i] = False\n",
    "    primes = [p for p in range(n + 1) if is_prime[p]]\n",
    "    return primes\n",
    "\n",
    "# Example\n",
    "n = 30\n",
    "print(sieve_of_eratosthenes(n))  \n",
    "\n",
    "# Output: [2, 3, 5, 7, 11, 13, 17, 19, 23, 29]"
   ]
  },
  {
   "cell_type": "markdown",
   "metadata": {},
   "source": [
    "#### 3. Miller-Rabin Primality Test"
   ]
  },
  {
   "cell_type": "code",
   "execution_count": 3,
   "metadata": {},
   "outputs": [
    {
     "name": "stdout",
     "output_type": "stream",
     "text": [
      "True\n"
     ]
    }
   ],
   "source": [
    "'''\n",
    "- What it does: Checks if a number is prime.\n",
    "- Example:\n",
    "  - Number: 29.\n",
    "  - Result: Prime.\n",
    "- Time Complexity: O(k log³ n), where k is the number of iterations.\n",
    "\n",
    "'''\n",
    "\n",
    "import random\n",
    "def miller_rabin(n, k=5):\n",
    "    if n < 2:\n",
    "        return False\n",
    "    for p in [2, 3, 5, 7, 11, 13]:\n",
    "        if n % p == 0:\n",
    "            return n == p\n",
    "    d = n - 1\n",
    "    s = 0\n",
    "    while d % 2 == 0:\n",
    "        d //= 2\n",
    "        s += 1\n",
    "    for _ in range(k):\n",
    "        a = random.randint(2, n - 2)\n",
    "        x = pow(a, d, n)\n",
    "        if x == 1 or x == n - 1:\n",
    "            continue\n",
    "        for __ in range(s - 1):\n",
    "            x = pow(x, 2, n)\n",
    "            if x == n - 1:\n",
    "                break\n",
    "        else:\n",
    "            return False\n",
    "    return True\n",
    "\n",
    "# Example\n",
    "n = 29\n",
    "print(miller_rabin(n))  \n",
    "\n",
    "# Output: True"
   ]
  }
 ],
 "metadata": {
  "kernelspec": {
   "display_name": "Python 3",
   "language": "python",
   "name": "python3"
  },
  "language_info": {
   "codemirror_mode": {
    "name": "ipython",
    "version": 3
   },
   "file_extension": ".py",
   "mimetype": "text/x-python",
   "name": "python",
   "nbconvert_exporter": "python",
   "pygments_lexer": "ipython3",
   "version": "3.11.5"
  }
 },
 "nbformat": 4,
 "nbformat_minor": 2
}
