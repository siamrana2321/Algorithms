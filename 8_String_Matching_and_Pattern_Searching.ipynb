{
 "cells": [
  {
   "cell_type": "markdown",
   "metadata": {},
   "source": [
    "#### 1. KMP Algorithm"
   ]
  },
  {
   "cell_type": "code",
   "execution_count": 1,
   "metadata": {},
   "outputs": [
    {
     "name": "stdout",
     "output_type": "stream",
     "text": [
      "Pattern found at index 10\n"
     ]
    }
   ],
   "source": [
    "'''\n",
    "- What it does: Finds occurrences of a pattern in a string efficiently.\n",
    "- Example:\n",
    "  - String: \"ABABDABACDABABCABAB\".\n",
    "  - Pattern: \"ABABCABAB\".\n",
    "  - Match found at index 10.\n",
    "- Time Complexity: O(n + m), where n is the string length and m is the pattern length.\n",
    "\n",
    "'''\n",
    "\n",
    "def kmp_search(text, pattern):\n",
    "    def compute_lps(pattern):\n",
    "        lps = [0] * len(pattern)\n",
    "        length = 0\n",
    "        i = 1\n",
    "        while i < len(pattern):\n",
    "            if pattern[i] == pattern[length]:\n",
    "                length += 1\n",
    "                lps[i] = length\n",
    "                i += 1\n",
    "            else:\n",
    "                if length != 0:\n",
    "                    length = lps[length - 1]\n",
    "                else:\n",
    "                    lps[i] = 0\n",
    "                    i += 1\n",
    "        return lps\n",
    "\n",
    "    lps = compute_lps(pattern)\n",
    "    i = j = 0\n",
    "    while i < len(text):\n",
    "        if text[i] == pattern[j]:\n",
    "            i += 1\n",
    "            j += 1\n",
    "            if j == len(pattern):\n",
    "                print(\"Pattern found at index\", i - j)\n",
    "                j = lps[j - 1]\n",
    "        else:\n",
    "            if j != 0:\n",
    "                j = lps[j - 1]\n",
    "            else:\n",
    "                i += 1\n",
    "\n",
    "# Example\n",
    "text = \"ABABDABACDABABCABAB\"\n",
    "pattern = \"ABABCABAB\"\n",
    "kmp_search(text, pattern)  \n",
    "\n",
    "# Output: Pattern found at index 10"
   ]
  },
  {
   "cell_type": "markdown",
   "metadata": {},
   "source": [
    "#### 2. Boyer-Moore Algorithm"
   ]
  },
  {
   "cell_type": "code",
   "execution_count": 2,
   "metadata": {},
   "outputs": [
    {
     "name": "stdout",
     "output_type": "stream",
     "text": [
      "Pattern found at index 4\n"
     ]
    }
   ],
   "source": [
    "'''\n",
    "- What it does: A fast string searching algorithm that skips sections of the text.\n",
    "- Example:\n",
    "  - String: \"ABAAABCD\".\n",
    "  - Pattern: \"ABC\".\n",
    "  - Match found at index 4.\n",
    "- Time Complexity: O(n + m) on average.\n",
    "\n",
    "'''\n",
    "\n",
    "def boyer_moore(text, pattern):\n",
    "    def bad_char_heuristic(pattern):\n",
    "        bad_char = {}\n",
    "        for i in range(len(pattern)):\n",
    "            bad_char[pattern[i]] = i\n",
    "        return bad_char\n",
    "\n",
    "    bad_char = bad_char_heuristic(pattern)\n",
    "    s = 0\n",
    "    while s <= len(text) - len(pattern):\n",
    "        j = len(pattern) - 1\n",
    "        while j >= 0 and pattern[j] == text[s + j]:\n",
    "            j -= 1\n",
    "        if j < 0:\n",
    "            print(\"Pattern found at index\", s)\n",
    "            s += (len(pattern) - bad_char.get(text[s + len(pattern)], -1)) if s + len(pattern) < len(text) else 1\n",
    "        else:\n",
    "            s += max(1, j - bad_char.get(text[s + j], -1))\n",
    "\n",
    "# Example\n",
    "text = \"ABAAABCD\"\n",
    "pattern = \"ABC\"\n",
    "boyer_moore(text, pattern)  \n",
    "\n",
    "# Output: Pattern found at index 4"
   ]
  },
  {
   "cell_type": "markdown",
   "metadata": {},
   "source": [
    "#### 3. Rabin-Karp Algorithm"
   ]
  },
  {
   "cell_type": "code",
   "execution_count": 1,
   "metadata": {},
   "outputs": [
    {
     "name": "stdout",
     "output_type": "stream",
     "text": [
      "Pattern found at index 0\n",
      "Pattern found at index 10\n"
     ]
    }
   ],
   "source": [
    "'''\n",
    "- What it does: Uses hashing to find patterns in a string.\n",
    "- Example:\n",
    "  - String: \"GEEKS FOR GEEKS\".\n",
    "  - Pattern: \"GEEK\".\n",
    "  - Match found at index 0 and 10.\n",
    "- Time Complexity: O(n + m) on average.\n",
    "\n",
    "'''\n",
    "\n",
    "def rabin_karp(text, pattern):\n",
    "    d = 256  # Number of characters in the input alphabet\n",
    "    q = 101  # A prime number\n",
    "    m = len(pattern)\n",
    "    n = len(text)\n",
    "    p = t = 0\n",
    "    h = 1\n",
    "\n",
    "    for i in range(m - 1):\n",
    "        h = (h * d) % q\n",
    "\n",
    "    for i in range(m):\n",
    "        p = (d * p + ord(pattern[i])) % q\n",
    "        t = (d * t + ord(text[i])) % q\n",
    "\n",
    "    for i in range(n - m + 1):\n",
    "        if p == t:\n",
    "            if text[i:i + m] == pattern:\n",
    "                print(\"Pattern found at index\", i)\n",
    "        if i < n - m:\n",
    "            t = (d * (t - ord(text[i]) * h) + ord(text[i + m])) % q\n",
    "            if t < 0:\n",
    "                t += q\n",
    "\n",
    "# Example\n",
    "text = \"GEEKS FOR GEEKS\"\n",
    "pattern = \"GEEK\"\n",
    "rabin_karp(text, pattern)\n",
    "\n",
    "# Output: Pattern found at index 0, Pattern found at index 10"
   ]
  }
 ],
 "metadata": {
  "kernelspec": {
   "display_name": "Python 3",
   "language": "python",
   "name": "python3"
  },
  "language_info": {
   "codemirror_mode": {
    "name": "ipython",
    "version": 3
   },
   "file_extension": ".py",
   "mimetype": "text/x-python",
   "name": "python",
   "nbconvert_exporter": "python",
   "pygments_lexer": "ipython3",
   "version": "3.11.5"
  }
 },
 "nbformat": 4,
 "nbformat_minor": 2
}
